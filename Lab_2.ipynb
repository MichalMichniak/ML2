{
  "nbformat": 4,
  "nbformat_minor": 0,
  "metadata": {
    "colab": {
      "provenance": [],
      "authorship_tag": "ABX9TyPx8kBLOhCMZ+glPCGurWnu",
      "include_colab_link": true
    },
    "kernelspec": {
      "name": "python3",
      "display_name": "Python 3"
    },
    "language_info": {
      "name": "python"
    }
  },
  "cells": [
    {
      "cell_type": "markdown",
      "metadata": {
        "id": "view-in-github",
        "colab_type": "text"
      },
      "source": [
        "<a href=\"https://colab.research.google.com/github/MichalMichniak/ML2/blob/main/Lab_2.ipynb\" target=\"_parent\"><img src=\"https://colab.research.google.com/assets/colab-badge.svg\" alt=\"Open In Colab\"/></a>"
      ]
    },
    {
      "cell_type": "code",
      "execution_count": 4,
      "metadata": {
        "id": "Y88npC5uNa_v"
      },
      "outputs": [],
      "source": [
        "from tensorflow.keras.datasets import imdb\n",
        "\n",
        "(train_data, train_labels), (test_data, test_labels) = imdb.load_data(num_words=10000)\n"
      ]
    },
    {
      "cell_type": "code",
      "source": [
        "import numpy as np\n",
        "\n",
        "def vectorize_sequences(sequences, dimension=10000):\n",
        "    results = np.zeros((len(sequences), dimension))  # Create an all-zero matrix of shape (len(sequences), dimension)\n",
        "    for i, sequence in enumerate(sequences):\n",
        "        results[i, sequence] = 1.  # set specific indices of results[i] to 1s\n",
        "    return results\n",
        "\n",
        "x_train = vectorize_sequences(train_data)\n",
        "x_test = vectorize_sequences(test_data)\n",
        "y_train = np.asarray(train_labels).astype('float32')\n",
        "y_test = np.asarray(test_labels).astype('float32')\n",
        "print(x_train.shape, x_test.shape)"
      ],
      "metadata": {
        "id": "TfMuSgCmOTyn",
        "outputId": "d98066c9-29ee-4e54-a363-c698ac85fa78",
        "colab": {
          "base_uri": "https://localhost:8080/"
        }
      },
      "execution_count": 5,
      "outputs": [
        {
          "output_type": "stream",
          "name": "stdout",
          "text": [
            "(25000, 10000) (25000, 10000)\n"
          ]
        }
      ]
    },
    {
      "cell_type": "code",
      "source": [
        "from keras import models\n",
        "from keras import layers\n",
        "\n",
        "model = models.Sequential()\n",
        "model.add(layers.Dense(16, activation='relu', input_shape=(10000,)))\n",
        "model.add(layers.Dense(16, activation='relu', input_shape=(16,)))\n",
        "model.add(layers.Dense(1, activation='sigmoid', input_shape=(16,)))"
      ],
      "metadata": {
        "id": "W1od4OOEO0HK"
      },
      "execution_count": 3,
      "outputs": []
    },
    {
      "cell_type": "code",
      "source": [
        "model.compile(optimizer='rmsprop',\n",
        "                loss='binary_crossentropy',\n",
        "                metrics=['accuracy'], run_eagerly=True)"
      ],
      "metadata": {
        "id": "gy6h4cq-QdSJ"
      },
      "execution_count": 4,
      "outputs": []
    },
    {
      "cell_type": "code",
      "source": [
        "from sklearn.model_selection import train_test_split\n",
        "x_test, x_val, y_test, y_val = train_test_split(x_test, y_test, test_size = 10000)\n",
        "print(x_test.shape, x_val.shape)"
      ],
      "metadata": {
        "id": "RFvSA97P027l",
        "outputId": "5cd6773a-64cb-4b5d-db0e-52903e725a33",
        "colab": {
          "base_uri": "https://localhost:8080/"
        }
      },
      "execution_count": 5,
      "outputs": [
        {
          "output_type": "stream",
          "name": "stdout",
          "text": [
            "(15000, 10000) (10000, 10000)\n"
          ]
        }
      ]
    },
    {
      "cell_type": "code",
      "source": [
        "history = model.fit(x=x_train, y= y_train, batch_size=512, epochs=20, validation_data=(x_val, y_val))"
      ],
      "metadata": {
        "id": "Fv-Gm6Cq2DhJ",
        "outputId": "5adfd991-7b93-4af4-fa85-35797e12be28",
        "colab": {
          "base_uri": "https://localhost:8080/"
        }
      },
      "execution_count": 6,
      "outputs": [
        {
          "output_type": "stream",
          "name": "stdout",
          "text": [
            "Epoch 1/20\n",
            "49/49 [==============================] - 5s 104ms/step - loss: 0.4758 - accuracy: 0.8116 - val_loss: 0.3565 - val_accuracy: 0.8714\n",
            "Epoch 2/20\n",
            "49/49 [==============================] - 4s 77ms/step - loss: 0.2829 - accuracy: 0.9013 - val_loss: 0.3174 - val_accuracy: 0.8690\n",
            "Epoch 3/20\n",
            "49/49 [==============================] - 5s 105ms/step - loss: 0.2224 - accuracy: 0.9207 - val_loss: 0.2798 - val_accuracy: 0.8837\n",
            "Epoch 4/20\n",
            "49/49 [==============================] - 4s 76ms/step - loss: 0.1886 - accuracy: 0.9321 - val_loss: 0.3233 - val_accuracy: 0.8667\n",
            "Epoch 5/20\n",
            "49/49 [==============================] - 4s 75ms/step - loss: 0.1653 - accuracy: 0.9420 - val_loss: 0.2877 - val_accuracy: 0.8830\n",
            "Epoch 6/20\n",
            "49/49 [==============================] - 5s 105ms/step - loss: 0.1479 - accuracy: 0.9477 - val_loss: 0.3172 - val_accuracy: 0.8726\n",
            "Epoch 7/20\n",
            "49/49 [==============================] - 4s 76ms/step - loss: 0.1340 - accuracy: 0.9543 - val_loss: 0.3193 - val_accuracy: 0.8757\n",
            "Epoch 8/20\n",
            "49/49 [==============================] - 4s 77ms/step - loss: 0.1199 - accuracy: 0.9594 - val_loss: 0.3350 - val_accuracy: 0.8736\n",
            "Epoch 9/20\n",
            "49/49 [==============================] - 5s 93ms/step - loss: 0.1133 - accuracy: 0.9606 - val_loss: 0.3606 - val_accuracy: 0.8701\n",
            "Epoch 10/20\n",
            "49/49 [==============================] - 6s 121ms/step - loss: 0.1002 - accuracy: 0.9666 - val_loss: 0.4144 - val_accuracy: 0.8576\n",
            "Epoch 11/20\n",
            "49/49 [==============================] - 4s 75ms/step - loss: 0.0929 - accuracy: 0.9689 - val_loss: 0.4010 - val_accuracy: 0.8643\n",
            "Epoch 12/20\n",
            "49/49 [==============================] - 5s 93ms/step - loss: 0.0831 - accuracy: 0.9728 - val_loss: 0.4167 - val_accuracy: 0.8640\n",
            "Epoch 13/20\n",
            "49/49 [==============================] - 5s 111ms/step - loss: 0.0764 - accuracy: 0.9767 - val_loss: 0.4710 - val_accuracy: 0.8562\n",
            "Epoch 14/20\n",
            "49/49 [==============================] - 4s 91ms/step - loss: 0.0705 - accuracy: 0.9782 - val_loss: 0.4546 - val_accuracy: 0.8641\n",
            "Epoch 15/20\n",
            "49/49 [==============================] - 5s 111ms/step - loss: 0.0623 - accuracy: 0.9811 - val_loss: 0.5938 - val_accuracy: 0.8393\n",
            "Epoch 16/20\n",
            "49/49 [==============================] - 4s 76ms/step - loss: 0.0554 - accuracy: 0.9845 - val_loss: 0.5133 - val_accuracy: 0.8562\n",
            "Epoch 17/20\n",
            "49/49 [==============================] - 4s 91ms/step - loss: 0.0520 - accuracy: 0.9852 - val_loss: 0.5366 - val_accuracy: 0.8547\n",
            "Epoch 18/20\n",
            "49/49 [==============================] - 4s 78ms/step - loss: 0.0441 - accuracy: 0.9891 - val_loss: 0.5936 - val_accuracy: 0.8477\n",
            "Epoch 19/20\n",
            "49/49 [==============================] - 4s 76ms/step - loss: 0.0394 - accuracy: 0.9899 - val_loss: 0.5799 - val_accuracy: 0.8572\n",
            "Epoch 20/20\n",
            "49/49 [==============================] - 5s 94ms/step - loss: 0.0320 - accuracy: 0.9933 - val_loss: 0.6092 - val_accuracy: 0.8545\n"
          ]
        }
      ]
    },
    {
      "cell_type": "code",
      "source": [
        "history_dict = history.history\n",
        "history_dict.keys()"
      ],
      "metadata": {
        "id": "DGmnKpL92nCT",
        "outputId": "8003fb3b-1efd-4f54-9f7c-917d142b8da9",
        "colab": {
          "base_uri": "https://localhost:8080/"
        }
      },
      "execution_count": 7,
      "outputs": [
        {
          "output_type": "execute_result",
          "data": {
            "text/plain": [
              "dict_keys(['loss', 'accuracy', 'val_loss', 'val_accuracy'])"
            ]
          },
          "metadata": {},
          "execution_count": 7
        }
      ]
    },
    {
      "cell_type": "code",
      "source": [
        "import matplotlib.pyplot as plt\n",
        "\n",
        "plt.plot(history_dict['loss'], label = \"training loss\")\n",
        "plt.plot(history_dict['val_loss'], label = \"validation loss\")\n",
        "plt.xlabel(\"epoch\")\n",
        "plt.ylabel(\"loss\")\n",
        "plt.show()\n",
        "\n",
        "plt.plot(history_dict['accuracy'], label = \"training accuracy\")\n",
        "plt.plot(history_dict['val_accuracy'], label = \"validation accuracy\")\n",
        "plt.xlabel(\"epoch\")\n",
        "plt.ylabel(\"accuracy\")\n",
        "plt.show()"
      ],
      "metadata": {
        "id": "jSbHUZvJ3Qjt",
        "outputId": "c5eb4f38-e29d-47e7-925c-9ab2db702b21",
        "colab": {
          "base_uri": "https://localhost:8080/",
          "height": 883
        }
      },
      "execution_count": 8,
      "outputs": [
        {
          "output_type": "display_data",
          "data": {
            "text/plain": [
              "<Figure size 640x480 with 1 Axes>"
            ],
            "image/png": "[encoded data removed]"
          },
          "metadata": {}
        },
        {
          "output_type": "display_data",
          "data": {
            "text/plain": [
              "<Figure size 640x480 with 1 Axes>"
            ],
            "image/png": "[encoded data removed]"
          },
          "metadata": {}
        }
      ]
    },
    {
      "cell_type": "markdown",
      "source": [
        "Hyperparameters"
      ],
      "metadata": {
        "id": "BNzQNkjK4kj6"
      }
    },
    {
      "cell_type": "code",
      "source": [
        "from keras import models\n",
        "from keras import layers\n",
        "\n",
        "model = models.Sequential()\n",
        "model.add(layers.Dense(16, activation='relu', input_shape=(10000,)))\n",
        "model.add(layers.Dense(16, activation='relu', input_shape=(16,)))\n",
        "model.add(layers.Dense(1, activation='sigmoid', input_shape=(16,)))"
      ],
      "metadata": {
        "id": "UirnRCbx5NK0"
      },
      "execution_count": 9,
      "outputs": []
    },
    {
      "cell_type": "code",
      "source": [
        "model.compile(optimizer='rmsprop',\n",
        "                loss='binary_crossentropy',\n",
        "                metrics=['accuracy'], run_eagerly=True)"
      ],
      "metadata": {
        "id": "juhk9nD85MdE"
      },
      "execution_count": 10,
      "outputs": []
    },
    {
      "cell_type": "code",
      "source": [
        "import tensorflow as tf\n",
        "\n",
        "class myCallback(tf.keras.callbacks.Callback):\n",
        "  def on_epoch_end(self, epoch, logs={}):\n",
        "    if(logs.get('accuracy')>0.9):\n",
        "      print(\"\\nReached 90% accuracy so cancelling training!\")\n",
        "      self.model.stop_training = True\n",
        "\n",
        "callbacks = myCallback()\n",
        "\n",
        "model.fit(x_train, y_train, epochs=20, callbacks=[callbacks])"
      ],
      "metadata": {
        "id": "TQkUuQ9e3zOn",
        "outputId": "5f962a12-ea2b-4d51-b62d-9213630bb04d",
        "colab": {
          "base_uri": "https://localhost:8080/"
        }
      },
      "execution_count": 11,
      "outputs": [
        {
          "output_type": "stream",
          "name": "stdout",
          "text": [
            "Epoch 1/20\n",
            "782/782 [==============================] - 28s 36ms/step - loss: 0.3209 - accuracy: 0.8701\n",
            "Epoch 2/20\n",
            "782/782 [==============================] - ETA: 0s - loss: 0.2136 - accuracy: 0.9183\n",
            "Reached 90% accuracy so cancelling training!\n",
            "782/782 [==============================] - 29s 37ms/step - loss: 0.2136 - accuracy: 0.9183\n"
          ]
        },
        {
          "output_type": "execute_result",
          "data": {
            "text/plain": [
              "<keras.callbacks.History at 0x7e7cc38fc1c0>"
            ]
          },
          "metadata": {},
          "execution_count": 11
        }
      ]
    },
    {
      "cell_type": "code",
      "source": [
        "\n",
        "from keras import models\n",
        "from keras import layers\n",
        "from sklearn.model_selection import GridSearchCV\n",
        "from keras.wrappers.scikit_learn import KerasClassifier\n",
        "# alternatively from scikeras.wrappers import KerasClassifier\n",
        "\n",
        "def create_model():\n",
        "    network = models.Sequential()\n",
        "    network.add(layers.Dense(16, activation='relu', input_shape=(10000,)))\n",
        "    network.add(layers.Dense(16, activation='relu', input_shape=(16,)))\n",
        "    network.add(layers.Dense(1, activation='sigmoid', input_shape=(16,)))\n",
        "\n",
        "    network.compile(optimizer='rmsprop',\n",
        "                loss='binary_crossentropy',\n",
        "                metrics=['accuracy'], run_eagerly=True)\n",
        "\n",
        "    return network\n",
        "\n",
        "model = KerasClassifier(build_fn=create_model)\n",
        "\n",
        "par1_batch = [32, 64]\n",
        "par2_epoch = [3, 5]\n",
        "\n",
        "param_grid = dict(batch_size=par1_batch,\n",
        "                  epochs=par2_epoch\n",
        "                  )\n",
        "\n",
        "grid = GridSearchCV(estimator=model,\n",
        "                    param_grid=param_grid,\n",
        "                    cv = 3\n",
        "                    )\n",
        "\n",
        "grid_results = grid.fit(x_train,y_train)\n",
        "\n",
        "print(\"Best: %f using %s\" % (grid_results.best_score_, grid_results.best_params_))"
      ],
      "metadata": {
        "id": "bRkmzX2s4s_i",
        "outputId": "b31b0cc7-acbe-49ff-efcc-f56833a865d7",
        "colab": {
          "base_uri": "https://localhost:8080/"
        }
      },
      "execution_count": null,
      "outputs": [
        {
          "output_type": "stream",
          "name": "stderr",
          "text": [
            "<ipython-input-7-09b1bb27bd35>:19: DeprecationWarning: KerasClassifier is deprecated, use Sci-Keras (https://github.com/adriangb/scikeras) instead. See https://www.adriangb.com/scikeras/stable/migration.html for help migrating.\n",
            "  model = KerasClassifier(build_fn=create_model)\n"
          ]
        },
        {
          "output_type": "stream",
          "name": "stdout",
          "text": [
            "Epoch 1/3\n",
            "521/521 [==============================] - 19s 35ms/step - loss: 0.3586 - accuracy: 0.8524\n",
            "Epoch 2/3\n",
            "521/521 [==============================] - 19s 37ms/step - loss: 0.2095 - accuracy: 0.9216\n",
            "Epoch 3/3\n",
            "521/521 [==============================] - 19s 37ms/step - loss: 0.1654 - accuracy: 0.9396\n",
            "261/261 [==============================] - 4s 14ms/step - loss: 0.3116 - accuracy: 0.8843\n",
            "Epoch 1/3\n",
            "521/521 [==============================] - 18s 35ms/step - loss: 0.3486 - accuracy: 0.8578\n",
            "Epoch 2/3\n",
            "521/521 [==============================] - 19s 36ms/step - loss: 0.2036 - accuracy: 0.9227\n",
            "Epoch 3/3\n",
            "521/521 [==============================] - 18s 35ms/step - loss: 0.1590 - accuracy: 0.9441\n",
            "261/261 [==============================] - 4s 15ms/step - loss: 0.3171 - accuracy: 0.8849\n",
            "Epoch 1/3\n",
            "521/521 [==============================] - 18s 35ms/step - loss: 0.3488 - accuracy: 0.8558\n",
            "Epoch 2/3\n",
            "521/521 [==============================] - 19s 37ms/step - loss: 0.2086 - accuracy: 0.9213\n",
            "Epoch 3/3\n",
            "521/521 [==============================] - 18s 35ms/step - loss: 0.1664 - accuracy: 0.9410\n",
            "261/261 [==============================] - 3s 13ms/step - loss: 0.3065 - accuracy: 0.8865\n",
            "Epoch 1/5\n",
            "521/521 [==============================] - 19s 37ms/step - loss: 0.3446 - accuracy: 0.8561\n",
            "Epoch 2/5\n",
            "521/521 [==============================] - 18s 35ms/step - loss: 0.2043 - accuracy: 0.9218\n",
            "Epoch 3/5\n",
            "521/521 [==============================] - 19s 37ms/step - loss: 0.1584 - accuracy: 0.9419\n",
            "Epoch 4/5\n",
            "521/521 [==============================] - 20s 38ms/step - loss: 0.1294 - accuracy: 0.9534\n",
            "Epoch 5/5\n",
            "521/521 [==============================] - 19s 36ms/step - loss: 0.1053 - accuracy: 0.9646\n",
            "261/261 [==============================] - 4s 13ms/step - loss: 0.4021 - accuracy: 0.8793\n",
            "Epoch 1/5\n",
            "521/521 [==============================] - 19s 36ms/step - loss: 0.3634 - accuracy: 0.8527\n",
            "Epoch 2/5\n",
            "521/521 [==============================] - 19s 37ms/step - loss: 0.2081 - accuracy: 0.9213\n",
            "Epoch 3/5\n",
            "521/521 [==============================] - 18s 35ms/step - loss: 0.1664 - accuracy: 0.9399\n",
            "Epoch 4/5\n",
            "521/521 [==============================] - 19s 37ms/step - loss: 0.1384 - accuracy: 0.9518\n",
            "Epoch 5/5\n",
            "521/521 [==============================] - 19s 36ms/step - loss: 0.1185 - accuracy: 0.9593\n",
            "261/261 [==============================] - 4s 14ms/step - loss: 0.3589 - accuracy: 0.8802\n"
          ]
        }
      ]
    }
  ]
}