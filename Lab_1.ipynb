{
  "nbformat": 4,
  "nbformat_minor": 0,
  "metadata": {
    "colab": {
      "provenance": [],
      "authorship_tag": "ABX9TyOP7DX0LNas4zv9IS1+lN+F",
      "include_colab_link": true
    },
    "kernelspec": {
      "name": "python3",
      "display_name": "Python 3"
    },
    "language_info": {
      "name": "python"
    }
  },
  "cells": [
    {
      "cell_type": "markdown",
      "metadata": {
        "id": "view-in-github",
        "colab_type": "text"
      },
      "source": [
        "<a href=\"https://colab.research.google.com/github/MichalMichniak/ML2/blob/main/Lab_1.ipynb\" target=\"_parent\"><img src=\"https://colab.research.google.com/assets/colab-badge.svg\" alt=\"Open In Colab\"/></a>"
      ]
    },
    {
      "cell_type": "code",
      "source": [
        "import keras"
      ],
      "metadata": {
        "id": "pX1aelZXHXHY"
      },
      "execution_count": 17,
      "outputs": []
    },
    {
      "cell_type": "code",
      "execution_count": 18,
      "metadata": {
        "id": "F1_k4uoIF6Fe"
      },
      "outputs": [],
      "source": [
        "from keras.datasets import mnist\n",
        "\n",
        "(train_images, train_labels), (test_images, test_labels) = mnist.load_data()"
      ]
    },
    {
      "cell_type": "code",
      "source": [
        "from keras import models\n",
        "from keras import layers\n",
        "\n",
        "network = models.Sequential()\n",
        "network.add(layers.Dense(512, activation='relu', input_shape=(28 * 28,)))\n",
        "network.add(layers.Dense(10, activation='softmax'))"
      ],
      "metadata": {
        "id": "0SP3x1wgHgS_"
      },
      "execution_count": 19,
      "outputs": []
    },
    {
      "cell_type": "code",
      "source": [
        "network.compile(optimizer='rmsprop',\n",
        "                loss='categorical_crossentropy',\n",
        "                metrics=['accuracy'], run_eagerly=True)"
      ],
      "metadata": {
        "id": "UGKnb6-1HlDX"
      },
      "execution_count": 20,
      "outputs": []
    },
    {
      "cell_type": "code",
      "source": [
        "import numpy as np\n",
        "train_images = train_images.astype(np.float64).reshape((train_images.shape[0], 28*28))\n",
        "test_images = test_images.astype(np.float64).reshape((test_images.shape[0], 28*28))\n",
        "\n",
        "train_images_norm = (train_images-train_images.min())/((train_images.max()-train_images.min()))\n",
        "test_images_norm = (test_images-test_images.min())/((test_images.max()-test_images.min()))"
      ],
      "metadata": {
        "id": "W4QilYyNIW7R"
      },
      "execution_count": 21,
      "outputs": []
    },
    {
      "cell_type": "code",
      "source": [
        "from keras.utils import to_categorical\n",
        "\n",
        "train_labels = to_categorical(train_labels)\n",
        "test_labels = to_categorical(test_labels)"
      ],
      "metadata": {
        "id": "vu0kpJOgKvJR"
      },
      "execution_count": 22,
      "outputs": []
    },
    {
      "cell_type": "code",
      "source": [
        "network.fit(x=train_images_norm, y= train_labels, batch_size=128, epochs=5)"
      ],
      "metadata": {
        "colab": {
          "base_uri": "https://localhost:8080/"
        },
        "id": "Umd9zBLdLEm2",
        "outputId": "a69f46ad-c540-4275-a378-a485209bf337"
      },
      "execution_count": 23,
      "outputs": [
        {
          "output_type": "stream",
          "name": "stdout",
          "text": [
            "Epoch 1/5\n",
            "469/469 [==============================] - 10s 22ms/step - loss: 0.2665 - accuracy: 0.9225\n",
            "Epoch 2/5\n",
            "469/469 [==============================] - 10s 22ms/step - loss: 0.1093 - accuracy: 0.9679\n",
            "Epoch 3/5\n",
            "469/469 [==============================] - 11s 23ms/step - loss: 0.0718 - accuracy: 0.9785\n",
            "Epoch 4/5\n",
            "469/469 [==============================] - 10s 22ms/step - loss: 0.0517 - accuracy: 0.9849\n",
            "Epoch 5/5\n",
            "469/469 [==============================] - 10s 21ms/step - loss: 0.0388 - accuracy: 0.9885\n"
          ]
        },
        {
          "output_type": "execute_result",
          "data": {
            "text/plain": [
              "<keras.src.callbacks.History at 0x7de46824f340>"
            ]
          },
          "metadata": {},
          "execution_count": 23
        }
      ]
    },
    {
      "cell_type": "code",
      "source": [
        "test_loss, test_acc = network.evaluate(test_images, test_labels)\n",
        "\n",
        "print('test_acc:', test_acc)"
      ],
      "metadata": {
        "colab": {
          "base_uri": "https://localhost:8080/"
        },
        "id": "z4UZhK9BMWiM",
        "outputId": "d6623121-ed7a-4833-b72a-43f6f5ed9a94"
      },
      "execution_count": 24,
      "outputs": [
        {
          "output_type": "stream",
          "name": "stdout",
          "text": [
            "313/313 [==============================] - 3s 9ms/step - loss: 11.2473 - accuracy: 0.9804\n",
            "test_acc: 0.980400025844574\n"
          ]
        }
      ]
    }
  ]
}